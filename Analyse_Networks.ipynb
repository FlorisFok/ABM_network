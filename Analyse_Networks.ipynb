{
 "cells": [
  {
   "cell_type": "code",
   "execution_count": 273,
   "metadata": {},
   "outputs": [],
   "source": [
    "# read my pickle\n",
    "# data = pickle.load(open(\"individuals_friendships_utilities.p\",\"rb\"))\n",
    "# characteristics, connectivity, utilities = data\n",
    "\n",
    "g_list = pickle.load(open(\"g_list.pkl\", \"rb\"))\n",
    "X_list = pickle.load(open(\"X_list.pkl\", \"rb\"))"
   ]
  },
  {
   "cell_type": "code",
   "execution_count": 274,
   "metadata": {},
   "outputs": [
    {
     "name": "stdout",
     "output_type": "stream",
     "text": [
      "(109, 109)\n",
      "(109, 3)\n"
     ]
    }
   ],
   "source": [
    "connectivity = g_list[1]\n",
    "print(connectivity.shape)\n",
    "# print(connectivity)\n",
    "characteristics = X_list[1]\n",
    "charac_short = characteristics[:,0:3]\n",
    "print(charac_short.shape)\n",
    "# print(charac_short)"
   ]
  },
  {
   "cell_type": "code",
   "execution_count": 276,
   "metadata": {},
   "outputs": [],
   "source": [
    "# analyse_network(connectivity, characteristics)"
   ]
  },
  {
   "cell_type": "code",
   "execution_count": 68,
   "metadata": {},
   "outputs": [
    {
     "name": "stdout",
     "output_type": "stream",
     "text": [
      "[[0 1 1 0]\n",
      " [1 0 1 0]\n",
      " [0 0 0 0]\n",
      " [0 0 0 0]]\n",
      "4\n",
      "[[ 2  1 10]\n",
      " [ 1  1  7]\n",
      " [ 2  1 12]\n",
      " [ 1  1  9]]\n"
     ]
    }
   ],
   "source": [
    "small = np.array([[0,1,1,0],\n",
    "                 [1,0,1,0],\n",
    "                 [0,0,0,0],\n",
    "                 [0,0,0,0]])\n",
    "print(small)\n",
    "print(np.sum(small))\n",
    "\n",
    "charac_mini = charac_short[0:4]\n",
    "print(charac_mini)"
   ]
  },
  {
   "cell_type": "code",
   "execution_count": 69,
   "metadata": {},
   "outputs": [
    {
     "name": "stdout",
     "output_type": "stream",
     "text": [
      "[[0 1 1 1 1]\n",
      " [1 0 1 1 0]\n",
      " [1 0 0 0 0]\n",
      " [1 0 0 0 0]\n",
      " [1 0 1 1 0]]\n",
      "12\n",
      "[[ 2  1 10]\n",
      " [ 1  1  7]\n",
      " [ 2  1 12]\n",
      " [ 1  1  9]\n",
      " [ 1  1 11]]\n"
     ]
    }
   ],
   "source": [
    "small5 = np.array([[0,1,1,1,1],\n",
    "                 [1,0,1,1,0],\n",
    "                 [1,0,0,0,0],\n",
    "                 [1,0,0,0,0],\n",
    "                  [1,0,1,1,0]])\n",
    "print(small5)\n",
    "print(np.sum(small5))\n",
    "\n",
    "charac_mini5 = charac_short[0:5]\n",
    "print(charac_mini5)"
   ]
  },
  {
   "cell_type": "code",
   "execution_count": 253,
   "metadata": {},
   "outputs": [
    {
     "name": "stderr",
     "output_type": "stream",
     "text": [
      "/Applications/miniconda3/lib/python3.7/site-packages/ipykernel_launcher.py:159: UserWarning: Just one group: no segregation index for trait racepossible.\n"
     ]
    },
    {
     "data": {
      "text/plain": [
       "(2.4,\n",
       " 1.25,\n",
       " 0.24,\n",
       " 0.5,\n",
       " 0.23809523809523808,\n",
       " [0.5555555555555555, 0.15713484026367722],\n",
       " {'grade_10': 0.0,\n",
       "  'grade_11': 0.0,\n",
       "  'grade_12': 0.0,\n",
       "  'grade_7': 0.0,\n",
       "  'grade_9': 0.0,\n",
       "  'race_1': 1.0,\n",
       "  'sex_1': 0.2857142857142857,\n",
       "  'sex_2': 0.4},\n",
       " [-0.10344827586206896, nan, 0.0])"
      ]
     },
     "execution_count": 253,
     "metadata": {},
     "output_type": "execute_result"
    }
   ],
   "source": [
    "analyse_network(small5, charac_mini5)"
   ]
  },
  {
   "cell_type": "code",
   "execution_count": 12,
   "metadata": {},
   "outputs": [],
   "source": [
    "# output:\n",
    "# den_max_reach / density at maximum reach (RCHDEN): density of the reachability network \n",
    "# rel_den / relative density (RELDEN): amount of nodes divided by the maximum possible number of nodes\n",
    "# p_symm_dyads / proportion symmetric dyads (PTCMUT): proportion of nodes that are reciprocal (counting once)\n",
    "# mutuality_index / mutuality index (RHO2): Katz and Powell’s (1955) mutuality index. Measures the tendency for actors in a group to reciprocate choices.\n",
    "den_max_reach, rel_den, p_symm_dyads, mutuality_index, clustering_coefficient = analyse_network(small)"
   ]
  },
  {
   "cell_type": "code",
   "execution_count": 270,
   "metadata": {},
   "outputs": [],
   "source": [
    "import pickle\n",
    "import numpy as np\n",
    "import copy\n",
    "import warnings\n",
    "\n",
    "def analyse_network(connectivity, characteristics):\n",
    "    # OUTPUT:\n",
    "    # average degree of nodes network            > av_degree\n",
    "    # density at maximum reach (RCHDEN)          > den_max_reach\n",
    "    # relative density (RELDEN)                  > rel_den\n",
    "    # proportion symmetric dyads (PTCMUT)        > p_symm_dyads\n",
    "    # mutuality index (RHO2)                     > mutuality_index\n",
    "    # amount of clustering (groups of friends)   > clustering_coefficient  [mean, std dev]\n",
    "    # homophily index per trait in dict          > homoph_ind              {\"0_\", \"1_\", \"2_\"}\n",
    "    # segregation index per trait                > segreg_ind              [sex, race, grade]\n",
    "    \n",
    "    # INPUT: \n",
    "    # - connectivity matrix with row-students nominating column-students as friends\n",
    "    # - characteristics matrix with row per student, with integers indicating every group for each characteristic (sex, race, grade)\n",
    "    \n",
    "    nodes = connectivity.shape[0]\n",
    "    mutual_d = 0\n",
    "    asym_d = 0\n",
    "#     trait = [\"sex\", \"race\", \"grade\", \"school\", \"_\", \"_\"]\n",
    "    \n",
    "    \n",
    "    #density DENX2\n",
    "    #DENX2 = np.sum(connectivity)/(nodes*(nodes-1))\n",
    "    \n",
    "    \n",
    "    # density at maximum reach RCHDEN\n",
    "    \n",
    "    # define the function to tranfer adjacency matrix to reachability matrix  \n",
    "    # Prints reachability matrix of graph[][] using Floyd Warshall algorithm \n",
    "    # function found on https://www.geeksforgeeks.org/transitive-closure-of-a-graph/\n",
    "    reachability = copy.deepcopy(connectivity)\n",
    "    '''reach[][] will be the output matrix that will finally \n",
    "    have reachability values. \n",
    "    Initialize the solution matrix same as input graph matrix'''\n",
    "    reach =[i[:] for i in reachability] \n",
    "    '''Add all vertices one by one to the set of intermediate \n",
    "    vertices. \n",
    "    ---> Before start of a iteration, we have reachability value \n",
    "    for all pairs of vertices such that the reachability values \n",
    "    consider only the vertices in set  \n",
    "    {0, 1, 2, .. k-1} as intermediate vertices. \n",
    "    ----> After the end of an iteration, vertex no. k is \n",
    "    added to the set of intermediate vertices and the  \n",
    "    set becomes {0, 1, 2, .. k}'''\n",
    "    for k in range(nodes): \n",
    "              \n",
    "        # Pick all vertices as source one by one \n",
    "        for i in range(nodes): \n",
    "                  \n",
    "            # Pick all vertices as destination for the \n",
    "            # above picked source \n",
    "            for j in range(nodes): \n",
    "                      \n",
    "                # If vertex k is on a path from i to j,  \n",
    "                    # then make sure that the value of reach[i][j] is 1 \n",
    "                reach[i][j] = reach[i][j] or (reach[i][k] and reach[k][j]) \n",
    "    \n",
    "    RCHDEN = np.sum(reach)/(nodes*(nodes-1))\n",
    "    \n",
    "    \n",
    "    # relative density RELDEN\n",
    "    RELDEN = np.sum(connectivity)/(10*nodes)\n",
    "\n",
    "\n",
    "    # create upper triangular matrix with 2's on mutual dyads, 1's on asymmetric dyads and count occurrence\n",
    "    added_up = np.triu(connectivity + np.transpose(connectivity))\n",
    "    mutual_d = np.count_nonzero(added_up == 2)\n",
    "    asym_d = np.count_nonzero(added_up == 1)\n",
    "    total_d = mutual_d + asym_d\n",
    "    \n",
    "    # calculate proportion symmetric dyads (PTCMUT) and asymmetric dyads (PTCASY)\n",
    "    PTCMUT = mutual_d / total_d\n",
    "    #PTCASY = asym_d / total_d\n",
    "    \n",
    "    \n",
    "    # count total out_degree connections\n",
    "    out_degree = connectivity.sum()\n",
    "    # average out_degree\n",
    "    av_degree = out_degree / nodes\n",
    "    # take the sum of squares of the out degree connections per individual (row)\n",
    "    sum_squares_out = (connectivity.sum(axis=1)**2).sum()\n",
    "    \n",
    "    # calculate mutuality index (RHO2) (according to Katz and Powell’s (1955))\n",
    "    RHO2 = (2*(nodes - 1)**2 * mutual_d - out_degree**2 + sum_squares_out) / (out_degree*(nodes - 1)**2 - out_degree**2 + sum_squares_out)\n",
    "    \n",
    "    # determine the local clustering coefficient mean and standard deviation\n",
    "    clustering_coefficients = []\n",
    "    for n_node, connections in enumerate(connectivity):\n",
    "        # the amount of neighbours each node has\n",
    "        n_neighbours = np.sum(connectivity[n_node])\n",
    "        # only consider nodes with at least 2 neighbours\n",
    "        if n_neighbours >= 2:\n",
    "            # matrix of the nodes that are both neighbours of the node considered\n",
    "            neighbour_matrix = np.dot(np.transpose([connectivity[n_node]]),[connectivity[n_node]])\n",
    "            # the amount of connections between neighbours\n",
    "            neighbour_connections = np.sum(connectivity*neighbour_matrix)\n",
    "            # the amount of connections between neighbours divided by the possible amount of connections\n",
    "            clustering_coefficients.append(neighbour_connections / (n_neighbours*(n_neighbours-1)))\n",
    "    mean_clustering_coefficient = np.mean(clustering_coefficients)\n",
    "    std_clustering_coefficient = np.std(clustering_coefficients)\n",
    "    clustering_coefficient = [mean_clustering_coefficient,std_clustering_coefficient]\n",
    "    \n",
    "    \n",
    "    # create homophily index dictionary and lists for the segregation index\n",
    "    homoph_ind = dict()\n",
    "    segreg_ind = []\n",
    "    \n",
    "    # iterate through different characteristics (sex, race, grade)\n",
    "    for i in range(characteristics.shape[1]):\n",
    "        # get different groups of this characteristic in dataset\n",
    "        characs = sorted(list(set(characteristics[:,i])))\n",
    "        amount = len(characs)\n",
    "        \n",
    "        # counters for individuals per characteristic group and out-group nominations\n",
    "        charac_count = []\n",
    "        charac_out = []\n",
    "        \n",
    "        # counters for expected and observed cross trait nominations\n",
    "        exp_cross = 0        \n",
    "        obs_cross = 0\n",
    "        \n",
    "        # iterate through different groups of this characteristic\n",
    "        for j in range(amount):\n",
    "            # indicate indices of members this group and save size group\n",
    "            indices = np.where(characteristics[:,i] == characs[j])[0]\n",
    "            charac_count.append(len(indices))\n",
    "            \n",
    "            # create a submatrix of all nominations from this group and save amount\n",
    "            submat_trait = connectivity[np.ix_(indices,)]\n",
    "            charac_out.append(submat_trait.sum())\n",
    "            \n",
    "            # create 2 submatrices outgoing connections: 1 to individuals same group and 1 to individuals different group\n",
    "            submat_same = connectivity[np.ix_(indices,indices)]\n",
    "            mask = np.ones(connectivity.shape[0], np.bool)\n",
    "            mask[indices] = 0\n",
    "            submat_diff = submat_trait[:,mask]\n",
    "            \n",
    "            # count amount outgoing connections to same and to different group\n",
    "            out_same = np.mean(submat_same.sum(axis=1))\n",
    "            out_diff = np.mean(submat_diff.sum(axis=1))\n",
    "            \n",
    "            # add amount of cross trait nominations of this group to total\n",
    "            obs_cross += submat_diff.sum()\n",
    "            \n",
    "            # calculate and save homophily index from this group for this characteristic\n",
    "            homoph_ind[str(i) + \"_\" + str(characs[j])] = out_same / (out_same + out_diff)\n",
    "        \n",
    "        # calculate expected cross trait nominations (added for all combinations of traits (except with self))\n",
    "        for row in range(amount):\n",
    "            for col in range(amount):\n",
    "                if row == col: pass\n",
    "                else:\n",
    "                    exp_cross += charac_out[row] * ((charac_count[row] * charac_count[col]) / (charac_count[row] * (nodes - 1)))\n",
    "        \n",
    "        # calculate and save segregation index for this trait\n",
    "        if exp_cross == 0:\n",
    "            segreg_ind.append(999)\n",
    "            if amount == 1:\n",
    "                warnings.warn(\"Just one group: no segregation index for this trait possible.\")\n",
    "            else:\n",
    "                warnings.warn(\"Expected cross trait nominations is zero: no segregation index for this trait possible.\")\n",
    "        else:\n",
    "            segreg_ind.append((exp_cross - obs_cross) / exp_cross)\n",
    "    \n",
    "    segreg_ind\n",
    "    \n",
    "    return av_degree, RCHDEN, RELDEN, PTCMUT, RHO2, clustering_coefficient, homoph_ind, segreg_ind\n",
    "    "
   ]
  },
  {
   "cell_type": "code",
   "execution_count": 266,
   "metadata": {},
   "outputs": [
    {
     "data": {
      "text/plain": [
       "(4.10091743119266,\n",
       " 0.7214576962283384,\n",
       " 0.41009174311926605,\n",
       " 0.2808022922636103,\n",
       " 0.41640636493060856,\n",
       " [0.32442072614486406, 0.20200116408940086],\n",
       " {'0_1': 0.5807692307692308,\n",
       "  '0_2': 0.6310160427807486,\n",
       "  '1_1': 0.9447115384615384,\n",
       "  '1_3': 0.0,\n",
       "  '1_5': 0.0,\n",
       "  '2_10': 0.6122448979591837,\n",
       "  '2_11': 0.6666666666666666,\n",
       "  '2_12': 0.8139534883720931,\n",
       "  '2_7': 0.8321678321678322,\n",
       "  '2_8': 0.8,\n",
       "  '2_9': 0.5135135135135136},\n",
       " [0.18525111252383983, 0.1111111111111111, 0.704991980753809])"
      ]
     },
     "execution_count": 266,
     "metadata": {},
     "output_type": "execute_result"
    }
   ],
   "source": [
    "analyse_network(connectivity, charac_short)"
   ]
  }
 ],
 "metadata": {
  "kernelspec": {
   "display_name": "Python 3",
   "language": "python",
   "name": "python3"
  },
  "language_info": {
   "codemirror_mode": {
    "name": "ipython",
    "version": 3
   },
   "file_extension": ".py",
   "mimetype": "text/x-python",
   "name": "python",
   "nbconvert_exporter": "python",
   "pygments_lexer": "ipython3",
   "version": "3.7.3"
  }
 },
 "nbformat": 4,
 "nbformat_minor": 2
}
