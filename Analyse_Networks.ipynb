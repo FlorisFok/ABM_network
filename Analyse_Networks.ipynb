{
 "cells": [
  {
   "cell_type": "code",
   "execution_count": 2,
   "metadata": {},
   "outputs": [],
   "source": [
    "import pickle\n",
    "import numpy as np\n",
    "import copy"
   ]
  },
  {
   "cell_type": "code",
   "execution_count": 54,
   "metadata": {},
   "outputs": [],
   "source": [
    "# read my pickle\n",
    "# data = pickle.load(open(\"individuals_friendships_utilities.p\",\"rb\"))\n",
    "# characteristics, connectivity, utilities = data\n",
    "\n",
    "g_list = pickle.load(open(\"g_list.pkl\", \"rb\"))"
   ]
  },
  {
   "cell_type": "code",
   "execution_count": 5,
   "metadata": {},
   "outputs": [
    {
     "name": "stdout",
     "output_type": "stream",
     "text": [
      "[[0 1 1 0]\n",
      " [1 0 1 0]\n",
      " [0 0 0 0]\n",
      " [0 0 0 0]]\n",
      "4\n"
     ]
    }
   ],
   "source": [
    "small = np.array([[0,1,1,0],\n",
    "                 [1,0,1,0],\n",
    "                 [0,0,0,0],\n",
    "                 [0,0,0,0]])\n",
    "print(small)\n",
    "print(np.sum(small))"
   ]
  },
  {
   "cell_type": "code",
   "execution_count": 12,
   "metadata": {},
   "outputs": [],
   "source": [
    "# output:\n",
    "# den_max_reach / density at maximum reach (RCHDEN): density of the reachability network \n",
    "# rel_den / relative density (RELDEN): amount of nodes divided by the maximum possible number of nodes\n",
    "# p_symm_dyads / proportion symmetric dyads (PTCMUT): proportion of nodes that are reciprocal (counting once)\n",
    "# mutuality_index / mutuality index (RHO2): Katz and Powell’s (1955) mutuality index. Measures the tendency for actors in a group to reciprocate choices.\n",
    "den_max_reach, rel_den, p_symm_dyads, mutuality_index = analyse_network(small)"
   ]
  },
  {
   "cell_type": "code",
   "execution_count": 15,
   "metadata": {},
   "outputs": [],
   "source": [
    "def analyse_network(connectivity):\n",
    "    # Output:\n",
    "    # density at maximum reach (RCHDEN), > den_max_reach\n",
    "    # relative density (RELDEN), > rel_den\n",
    "    # proportion symmetric dyads (PTCMUT), > p_symm_dyads \n",
    "    # mutuality index (RHO2), > mutuality_index\n",
    "    \n",
    "    # input: \n",
    "    # connectivity matrix with students claiming to have friends in row and students claimed to be befriended in columns\n",
    "    \n",
    "    nodes = connectivity.shape[0]\n",
    "    mutual_d = 0\n",
    "    asym_d = 0\n",
    "    out_degrees = []\n",
    "    \n",
    "    \n",
    "    #density DENX2\n",
    "    #DENX2 = np.sum(connectivity)/(nodes*(nodes-1))\n",
    "    \n",
    "    \n",
    "    # density at maximum reach RCHDEN\n",
    "    \n",
    "    # define the function to tranfer adjacency matrix to reachability matrix  \n",
    "    # Prints reachability matrix of graph[][] using Floyd Warshall algorithm \n",
    "    # function found on https://www.geeksforgeeks.org/transitive-closure-of-a-graph/\n",
    "    reachability = copy.deepcopy(connectivity)\n",
    "    '''reach[][] will be the output matrix that will finally \n",
    "    have reachability values. \n",
    "    Initialize the solution matrix same as input graph matrix'''\n",
    "    reach =[i[:] for i in reachability] \n",
    "    '''Add all vertices one by one to the set of intermediate \n",
    "    vertices. \n",
    "    ---> Before start of a iteration, we have reachability value \n",
    "    for all pairs of vertices such that the reachability values \n",
    "    consider only the vertices in set  \n",
    "    {0, 1, 2, .. k-1} as intermediate vertices. \n",
    "    ----> After the end of an iteration, vertex no. k is \n",
    "    added to the set of intermediate vertices and the  \n",
    "    set becomes {0, 1, 2, .. k}'''\n",
    "    for k in range(nodes): \n",
    "              \n",
    "        # Pick all vertices as source one by one \n",
    "        for i in range(nodes): \n",
    "                  \n",
    "            # Pick all vertices as destination for the \n",
    "            # above picked source \n",
    "            for j in range(nodes): \n",
    "                      \n",
    "                # If vertex k is on a path from i to j,  \n",
    "                    # then make sure that the value of reach[i][j] is 1 \n",
    "                reach[i][j] = reach[i][j] or (reach[i][k] and reach[k][j]) \n",
    "    \n",
    "    RCHDEN = np.sum(reach)/(nodes*(nodes-1))\n",
    "    \n",
    "    \n",
    "    # relative density RELDEN\n",
    "    RELDEN = np.sum(connectivity)/(10*nodes)\n",
    "\n",
    "\n",
    "    # create upper triangular matrix with 2's on mutual dyads, 1's on asymmetric dyads and count occurrence\n",
    "    added_up = np.triu(connectivity + np.transpose(connectivity))\n",
    "    mutual_d = np.count_nonzero(added_up == 2)\n",
    "    asym_d = np.count_nonzero(added_up == 1)\n",
    "    total_d = mutual_d + asym_d\n",
    "    \n",
    "    # calculate proportion symmetric dyads (PTCMUT) and asymmetric dyads (PTCASY)\n",
    "    PTCMUT = mutual_d / total_d\n",
    "    #PTCASY = asym_d / total_d\n",
    "    \n",
    "    \n",
    "    # count total out_degree connections\n",
    "    out_degree = connectivity.sum()\n",
    "    # take the sum of squares of the out degree connections per individual (row)\n",
    "    sum_squares_out = (connectivity.sum(axis=1)**2).sum()\n",
    "    \n",
    "    # calculate mutuality index (RHO2) (according to Katz and Powell’s (1955))\n",
    "    RHO2 = (2*(nodes - 1)**2 * mutual_d - out_degree**2 + sum_squares_out) / (out_degree*(nodes - 1)**2 - out_degree**2 + sum_squares_out)\n",
    "\n",
    "    \n",
    "    return RCHDEN, RELDEN, PTCMUT, RHO2\n",
    "    "
   ]
  }
 ],
 "metadata": {
  "kernelspec": {
   "display_name": "Python 3",
   "language": "python",
   "name": "python3"
  },
  "language_info": {
   "codemirror_mode": {
    "name": "ipython",
    "version": 3
   },
   "file_extension": ".py",
   "mimetype": "text/x-python",
   "name": "python",
   "nbconvert_exporter": "python",
   "pygments_lexer": "ipython3",
   "version": "3.6.8"
  }
 },
 "nbformat": 4,
 "nbformat_minor": 2
}
