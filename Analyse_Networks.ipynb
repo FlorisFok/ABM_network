{
 "cells": [
  {
   "cell_type": "code",
   "execution_count": 37,
   "metadata": {},
   "outputs": [],
   "source": [
    "import pickle\n",
    "import numpy as np\n",
    "\n",
    "# read my pickle\n",
    "data = pickle.load(open(\"individuals_friendships_utilities.p\",\"rb\"))\n",
    "characteristics, connectivity, utilities = data\n",
    "\n",
    "X_list = pickle.load(open(\"X_list.pkl\", \"rb\"))"
   ]
  },
  {
   "cell_type": "code",
   "execution_count": 42,
   "metadata": {},
   "outputs": [],
   "source": [
    "# for i in range(len(X_list)):\n",
    "#     print(X_list[i].shape)\n",
    "#     print(X_list[i], '\\n')"
   ]
  },
  {
   "cell_type": "code",
   "execution_count": 41,
   "metadata": {},
   "outputs": [
    {
     "data": {
      "text/plain": [
       "(0.5487804878048781, 0.45121951219512196, 1.1027171109002092)"
      ]
     },
     "execution_count": 41,
     "metadata": {},
     "output_type": "execute_result"
    }
   ],
   "source": [
    "def ana_dyads(connectivity):\n",
    "    \"\"\"\n",
    "        Calculate proportion symmetric dyads (PTCMUT), asymmetric dyads (PTCASY) and mutuality index (RHO2).\n",
    "    \"\"\"\n",
    "    nodes = connectivity.shape[0]\n",
    "    total_d = np.count_nonzero(connectivity == 1)\n",
    "    mutual_d = 0\n",
    "    asym_d = 0\n",
    "    out_degrees = []\n",
    "    \n",
    "    # count out_degree connections per individual and mutual and asymmetrix connections whole network\n",
    "    for i in range(connectivity.shape[0]):\n",
    "        out_degree = 0\n",
    "        for j in range(connectivity.shape[1]):\n",
    "            if connectivity[i][j] == 1:\n",
    "                out_degree += 1\n",
    "                if connectivity[j][i] == 1:\n",
    "                    mutual_d += 1\n",
    "                elif connectivity[j][i] != 1:\n",
    "                    asym_d += 1\n",
    "        out_degrees.append(out_degree)\n",
    "    \n",
    "    # calculate proportion symmetric dyads (PTCMUT) and asymmetric dyads (PTCASY)\n",
    "    PTCMUT = mutual_d / total_d\n",
    "    PTCASY = asym_d / total_d\n",
    "    \n",
    "    # calculate mutuality index (RHO2) (according to Katz and Powell’s (1955))\n",
    "    sum_out_degrees = sum(out_degrees)\n",
    "    mean_out_degrees = sum_out_degrees / len(out_degrees)\n",
    "    sum_squares_out = 0\n",
    "    for i in range(len(out_degrees)):\n",
    "        sum_squares_out += (mean_out_degrees - out_degrees[i])**2\n",
    "    RHO2 = (2*(nodes - 1)**2 * mutual_d - sum_out_degrees**2 + sum_squares_out) / (sum_out_degrees*(nodes - 1)**2 - sum_out_degrees**2 + sum_squares_out)\n",
    "\n",
    "    return PTCMUT, PTCASY, RHO2\n",
    "\n",
    "ana_dyads(connectivity)"
   ]
  }
 ],
 "metadata": {
  "kernelspec": {
   "display_name": "Python 3",
   "language": "python",
   "name": "python3"
  },
  "language_info": {
   "codemirror_mode": {
    "name": "ipython",
    "version": 3
   },
   "file_extension": ".py",
   "mimetype": "text/x-python",
   "name": "python",
   "nbconvert_exporter": "python",
   "pygments_lexer": "ipython3",
   "version": "3.7.3"
  }
 },
 "nbformat": 4,
 "nbformat_minor": 2
}
