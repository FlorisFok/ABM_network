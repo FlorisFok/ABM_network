{
 "cells": [
  {
   "cell_type": "code",
   "execution_count": 2,
   "metadata": {},
   "outputs": [],
   "source": [
    "import pickle\n",
    "import numpy as np"
   ]
  },
  {
   "cell_type": "code",
   "execution_count": 9,
   "metadata": {},
   "outputs": [],
   "source": [
    "# read my pickle\n",
    "# data = pickle.load(open(\"individuals_friendships_utilities.p\",\"rb\"))\n",
    "# characteristics, connectivity, utilities = data\n",
    "\n",
    "g_list = pickle.load(open(\"g_list.pkl\", \"rb\"))"
   ]
  },
  {
   "cell_type": "code",
   "execution_count": 16,
   "metadata": {},
   "outputs": [
    {
     "name": "stdout",
     "output_type": "stream",
     "text": [
      "[[0. 0. 0. ... 0. 0. 0.]\n",
      " [0. 0. 0. ... 1. 0. 0.]\n",
      " [0. 0. 0. ... 0. 0. 0.]\n",
      " ...\n",
      " [0. 0. 0. ... 0. 0. 0.]\n",
      " [0. 0. 0. ... 0. 0. 0.]\n",
      " [0. 0. 0. ... 0. 0. 0.]]\n",
      "305.0\n"
     ]
    }
   ],
   "source": [
    "print(g_list[0])\n",
    "print(np.sum(g_list[0]))"
   ]
  },
  {
   "cell_type": "code",
   "execution_count": 15,
   "metadata": {},
   "outputs": [
    {
     "name": "stdout",
     "output_type": "stream",
     "text": [
      "[[0 1 1 0]\n",
      " [1 0 1 0]\n",
      " [0 0 0 0]\n",
      " [0 0 0 0]]\n",
      "4\n"
     ]
    }
   ],
   "source": [
    "small = np.array([[0,1,1,0],\n",
    "                 [1,0,1,0],\n",
    "                 [0,0,0,0],\n",
    "                 [0,0,0,0]])\n",
    "print(small)\n",
    "print(np.sum(small))"
   ]
  },
  {
   "cell_type": "code",
   "execution_count": 14,
   "metadata": {},
   "outputs": [
    {
     "data": {
      "text/plain": [
       "4"
      ]
     },
     "execution_count": 14,
     "metadata": {},
     "output_type": "execute_result"
    }
   ],
   "source": [
    "np.sum(small)"
   ]
  },
  {
   "cell_type": "code",
   "execution_count": 7,
   "metadata": {},
   "outputs": [],
   "source": [
    "DENX2, RCHDEN, RELDEN, PTCMUT, PTCASY, RHO2 = ana_dyads(small)"
   ]
  },
  {
   "cell_type": "code",
   "execution_count": 17,
   "metadata": {},
   "outputs": [
    {
     "name": "stdout",
     "output_type": "stream",
     "text": [
      "(0.3333333333333333, 0.5, 0.15, 0.5, 0.5, 0.3333333333333333)\n"
     ]
    }
   ],
   "source": [
    "print(ana_dyads(small))"
   ]
  },
  {
   "cell_type": "code",
   "execution_count": 5,
   "metadata": {},
   "outputs": [],
   "source": [
    "def ana_dyads(connectivity):\n",
    "    # Calculate:\n",
    "    # density (DENX2),\n",
    "    # density at maximum reach (RCHDEN),\n",
    "    # relative density (RELDEN),\n",
    "    # proportion symmetric dyads (PTCMUT), \n",
    "    # asymmetric dyads (PTCASY), and \n",
    "    # mutuality index (RHO2)\n",
    "    \n",
    "    nodes = connectivity.shape[0]\n",
    "    mutual_d = 0\n",
    "    asym_d = 0\n",
    "    out_degrees = []\n",
    "    \n",
    "    \n",
    "    #density DENX2\n",
    "    DENX2 = np.sum(connectivity)/(nodes*(nodes-1))\n",
    "    \n",
    "    \n",
    "    # density at maximum reach RCHDEN\n",
    "    \n",
    "    # define the function to tranfer adjacency matrix to reachability matrix  \n",
    "    # Prints reachability matrix of graph[][] using Floyd Warshall algorithm \n",
    "    # function found on https://www.geeksforgeeks.org/transitive-closure-of-a-graph/\n",
    "    '''reach[][] will be the output matrix that will finally \n",
    "    have reachability values. \n",
    "    Initialize the solution matrix same as input graph matrix'''\n",
    "    reach =[i[:] for i in connectivity] \n",
    "    '''Add all vertices one by one to the set of intermediate \n",
    "    vertices. \n",
    "    ---> Before start of a iteration, we have reachability value \n",
    "    for all pairs of vertices such that the reachability values \n",
    "    consider only the vertices in set  \n",
    "    {0, 1, 2, .. k-1} as intermediate vertices. \n",
    "    ----> After the end of an iteration, vertex no. k is \n",
    "    added to the set of intermediate vertices and the  \n",
    "    set becomes {0, 1, 2, .. k}'''\n",
    "    for k in range(nodes): \n",
    "              \n",
    "        # Pick all vertices as source one by one \n",
    "        for i in range(nodes): \n",
    "                  \n",
    "            # Pick all vertices as destination for the \n",
    "            # above picked source \n",
    "            for j in range(nodes): \n",
    "                      \n",
    "                # If vertex k is on a path from i to j,  \n",
    "                    # then make sure that the value of reach[i][j] is 1 \n",
    "                reach[i][j] = reach[i][j] or (reach[i][k] and reach[k][j]) \n",
    "    \n",
    "    RCHDEN= np.sum(reach)/(nodes*(nodes-1))\n",
    "    \n",
    "    \n",
    "    # relative density RELDEN\n",
    "    RELDEN = np.sum(connectivity)/(10*nodes)\n",
    "\n",
    "    \n",
    "    # count out_degree connections per individual and mutual and asymmetrix connections whole network\n",
    "    for i in range(connectivity.shape[0]):\n",
    "        out_degree = 0\n",
    "        for j in range(connectivity.shape[1]):\n",
    "            if connectivity[i][j] == 1:\n",
    "                out_degree += 1\n",
    "                if connectivity[j][i] == 1:\n",
    "                    mutual_d += 0.5\n",
    "                elif connectivity[j][i] != 1:\n",
    "                    asym_d += 1\n",
    "        out_degrees.append(out_degree)\n",
    "    \n",
    "    total_d = mutual_d + asym_d\n",
    "    \n",
    "    \n",
    "    # calculate proportion symmetric dyads (PTCMUT) and asymmetric dyads (PTCASY)\n",
    "    PTCMUT = mutual_d / total_d\n",
    "    PTCASY = asym_d / total_d\n",
    "    \n",
    "    \n",
    "    # calculate mutuality index (RHO2) (according to Katz and Powell’s (1955))\n",
    "    sum_out_degrees = sum(out_degrees)\n",
    "    mean_out_degrees = sum_out_degrees / len(out_degrees)\n",
    "    sum_squares_out = 0\n",
    "    for i in range(len(out_degrees)):\n",
    "        sum_squares_out += (mean_out_degrees - out_degrees[i])**2\n",
    "    RHO2 = (2*(nodes - 1)**2 * mutual_d - sum_out_degrees**2 + sum_squares_out) / (sum_out_degrees*(nodes - 1)**2 - sum_out_degrees**2 + sum_squares_out)\n",
    "\n",
    "    return DENX2, RCHDEN, RELDEN, PTCMUT, PTCASY, RHO2\n",
    "    "
   ]
  }
 ],
 "metadata": {
  "kernelspec": {
   "display_name": "Python 3",
   "language": "python",
   "name": "python3"
  },
  "language_info": {
   "codemirror_mode": {
    "name": "ipython",
    "version": 3
   },
   "file_extension": ".py",
   "mimetype": "text/x-python",
   "name": "python",
   "nbconvert_exporter": "python",
   "pygments_lexer": "ipython3",
   "version": "3.6.8"
  }
 },
 "nbformat": 4,
 "nbformat_minor": 2
}
